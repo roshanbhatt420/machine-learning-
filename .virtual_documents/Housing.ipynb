import pandas as pd
def load_data():
    file_path = "datasets/house_price_regression_dataset.csv"
    df = pd.read_csv(file_path)
    return df





# Data loading 


data=load_data()
data.head()


# information about the data


df.info()


data.describe()



